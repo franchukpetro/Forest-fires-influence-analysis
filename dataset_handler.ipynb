{
 "cells": [
  {
   "cell_type": "markdown",
   "metadata": {},
   "source": [
    "# Selection cities for further analysis and merging them"
   ]
  },
  {
   "cell_type": "code",
   "execution_count": 34,
   "metadata": {},
   "outputs": [],
   "source": [
    "import pandas as pd\n",
    "import os\n",
    "import shutil"
   ]
  },
  {
   "cell_type": "code",
   "execution_count": 30,
   "metadata": {},
   "outputs": [],
   "source": [
    "# cities, for which we will check climate changes\n",
    "south_america_cities = [\"BUENOS AIRES OBS\", \"SANTIAGO\" , \"INAQUITO\", \"BRASILIA\", \"RIO DE JANEIRO FORTE DE COPACABANA\"]\n",
    "north_america_cities = [\"MEXICO CENTRAL D.F.\", \"LOS ANGELES DOWNTOWN USC\", \"PORT CHICAGO\", \"OTTAWA CDA RCS ONT\"]\n",
    "europe_cities = [\"LONDONDERRY EGLINTON\", \"PARIS MONTSOURIS\", \"BERLIN MUNICIPAL AIRPORT\", \"LVIV INTERNATIONAL\"]\n",
    "asia_cities = [\"HONG KONG INTERNATIONAL\", \"TOKYO\", \"BEIJING CAPITAL INTERNATIONAL AIRPORT\", \"KOLKATA ALIPORE\"]\n",
    "all_cities = south_america_cities + north_america_cities + europe_cities + asia_cities"
   ]
  },
  {
   "cell_type": "code",
   "execution_count": 75,
   "metadata": {},
   "outputs": [],
   "source": [
    "# selects records only for specified cities, renames  file to corresponding city name\n",
    "# and copies them to directory\n",
    "def select_one_year(source, target_dir, year, cities):\n",
    "    \n",
    "    if not (os.path.exists(target_dir + year)):\n",
    "        os.mkdir(target_dir + year)\n",
    "    \n",
    "    for filename in os.listdir(source):\n",
    "        f = pd.read_csv(source + filename)\n",
    "        if \"NAME\" in f.columns and type(f.NAME[0]) == str:\n",
    "            city = f.NAME[0].split(\",\")[0]\n",
    "            if city in cities:\n",
    "                shutil.copyfile(source + filename, target_dir +  year + \"/\" + city + \".csv\")"
   ]
  },
  {
   "cell_type": "code",
   "execution_count": 83,
   "metadata": {},
   "outputs": [],
   "source": [
    "# select specified records for all years\n",
    "def select_all(source, target_dir, cities):\n",
    "    for year in os.listdir(source):\n",
    "        select_one_year(source + year + \"/\", target_dir, year, cities)"
   ]
  },
  {
   "cell_type": "code",
   "execution_count": 86,
   "metadata": {},
   "outputs": [],
   "source": [
    "select_all(\"data/GSOD/source_data/\", \"data/GSOD/selected_cities/\", all_cities)"
   ]
  },
  {
   "cell_type": "code",
   "execution_count": null,
   "metadata": {},
   "outputs": [],
   "source": [
    "# merged data of one weather station for all years\n",
    "def merge_city(source, target_dir, city):\n",
    "    frames = []\n",
    "    for year in sorted(os.listdir(source)):\n",
    "        cities = [file for file in os.listdir(source + year)]\n",
    "        if city in cities:\n",
    "            df = pd.read_csv(source + year + \"/\" + city)\n",
    "            frames.append(df)\n",
    "     \n",
    "    merged = pd.concat(frames)\n",
    "    merged.reset_index(drop=True, inplace=True)\n",
    "    merged.to_csv(target_dir + city)"
   ]
  },
  {
   "cell_type": "code",
   "execution_count": null,
   "metadata": {},
   "outputs": [],
   "source": [
    "files_2019 = [file for file in os.listdir(\"data/GSOD/selected_cities/2019\")]\n",
    "\n",
    "for city in files_2019:\n",
    "    merge_city(\"data/GSOD/selected_cities/\", \"data/GSOD/merged_cities/\", city)"
   ]
  }
 ],
 "metadata": {
  "kernelspec": {
   "display_name": "Python 3",
   "language": "python",
   "name": "python3"
  },
  "language_info": {
   "codemirror_mode": {
    "name": "ipython",
    "version": 3
   },
   "file_extension": ".py",
   "mimetype": "text/x-python",
   "name": "python",
   "nbconvert_exporter": "python",
   "pygments_lexer": "ipython3",
   "version": "3.6.6"
  }
 },
 "nbformat": 4,
 "nbformat_minor": 2
}
